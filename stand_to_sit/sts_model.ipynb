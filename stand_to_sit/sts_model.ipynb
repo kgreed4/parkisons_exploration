{
  "nbformat": 4,
  "nbformat_minor": 0,
  "metadata": {
    "colab": {
      "provenance": [],
      "authorship_tag": "ABX9TyNd7t0XnscakQkSQEo5OjJI",
      "include_colab_link": true
    },
    "kernelspec": {
      "name": "python3",
      "display_name": "Python 3"
    },
    "language_info": {
      "name": "python"
    }
  },
  "cells": [
    {
      "cell_type": "markdown",
      "metadata": {
        "id": "view-in-github",
        "colab_type": "text"
      },
      "source": [
        "<a href=\"https://colab.research.google.com/github/kgreed4/parkisons_exploration/blob/main/stand_to_sit/sts_model.ipynb\" target=\"_parent\"><img src=\"https://colab.research.google.com/assets/colab-badge.svg\" alt=\"Open In Colab\"/></a>"
      ]
    },
    {
      "cell_type": "code",
      "execution_count": 3,
      "metadata": {
        "id": "9m1a4gorn21D"
      },
      "outputs": [],
      "source": [
        "import os\n",
        "import pandas as pd\n",
        "import numpy as np\n",
        "import matplotlib.pyplot as plt\n",
        "import seaborn as sns\n",
        "from sklearn.model_selection import train_test_split\n",
        "from sklearn.preprocessing import LabelEncoder\n",
        "from sklearn.preprocessing import StandardScaler\n",
        "import tensorflow as tf\n",
        "from tensorflow.keras import Sequential\n",
        "from tensorflow.keras.layers import Dense"
      ]
    },
    {
      "cell_type": "code",
      "source": [
        "# Set the path to the csv\n",
        "path = \"/content/SitToStand_human_labels.csv\"\n",
        "\n",
        "# Read the csv into a dataframe\n",
        "df = pd.read_csv(path)\n",
        "\n",
        "# Display the first few rows of the dataframe\n",
        "print(df.head())"
      ],
      "metadata": {
        "colab": {
          "base_uri": "https://localhost:8080/"
        },
        "id": "OULti__9oLFP",
        "outputId": "53bc0b89-280a-4e9e-8cf3-03c95b7beae7"
      },
      "execution_count": 30,
      "outputs": [
        {
          "output_type": "stream",
          "name": "stdout",
          "text": [
            "   Transition ID  Participant ID number PD_or_C  sts_whole_episode_duration  \\\n",
            "0              1                    596      PD                    1.748000   \n",
            "1              2                    596      PD                    2.085000   \n",
            "2              3                    596      PD                    2.610000   \n",
            "3              4                    596      PD                    2.478999   \n",
            "4              5                    596      PD                    1.268000   \n",
            "\n",
            "   sts_final_attempt_duration On_or_Off_medication DBS_state  \\\n",
            "0                    1.209000        On medication         -   \n",
            "1                    1.076999        On medication         -   \n",
            "2                    1.067999        On medication         -   \n",
            "3                    1.233000        On medication         -   \n",
            "4                    0.801000        On medication         -   \n",
            "\n",
            "  Clinical_assessment STS_additional_features  \\\n",
            "0                 Yes                     NaN   \n",
            "1                 Yes                     NaN   \n",
            "2                 Yes      Uses arms of chair   \n",
            "3                 Yes                    Slow   \n",
            "4                 Yes                     NaN   \n",
            "\n",
            "   MDS-UPDRS_score_3.9 _arising_from_chair  \n",
            "0                                      0.0  \n",
            "1                                      0.0  \n",
            "2                                      2.0  \n",
            "3                                      1.0  \n",
            "4                                      0.0  \n"
          ]
        }
      ]
    },
    {
      "cell_type": "code",
      "source": [
        "# Create a neural network based on the df, where y = PD_or_C column\n",
        "\n",
        "# Drop participant ID number\n",
        "df = df.drop(columns=['Participant ID number'])\n",
        "\n",
        "# Encode categorical variables\n",
        "label_encoder = LabelEncoder()\n",
        "df['PD_or_C'] = label_encoder.fit_transform(df['PD_or_C'])\n",
        "df['On_or_Off_medication'] = label_encoder.fit_transform(df['On_or_Off_medication'])\n",
        "df['STS_additional_features'] = label_encoder.fit_transform(df['STS_additional_features'])\n",
        "df['DBS_state'] = label_encoder.fit_transform(df['DBS_state'])\n",
        "df['Clinical_assessment'] = label_encoder.fit_transform(df['Clinical_assessment'])"
      ],
      "metadata": {
        "id": "aLWylOrioX-w"
      },
      "execution_count": 31,
      "outputs": []
    },
    {
      "cell_type": "code",
      "source": [
        "# Check for missing values in each column\n",
        "missing_values = df.isna().sum()\n",
        "\n",
        "# Display columns with missing values\n",
        "columns_with_missing_values = missing_values[missing_values > 0]\n",
        "print(\"Columns with missing values:\")\n",
        "print(columns_with_missing_values)"
      ],
      "metadata": {
        "colab": {
          "base_uri": "https://localhost:8080/"
        },
        "id": "6xW8wdiisWHn",
        "outputId": "d029b6a1-dc55-4044-81db-a10a659615a2"
      },
      "execution_count": 33,
      "outputs": [
        {
          "output_type": "stream",
          "name": "stdout",
          "text": [
            "Columns with missing values:\n",
            "MDS-UPDRS_score_3.9 _arising_from_chair    7\n",
            "dtype: int64\n"
          ]
        }
      ]
    },
    {
      "cell_type": "code",
      "source": [
        "# Replace missing values\n",
        "df['MDS-UPDRS_score_3.9 _arising_from_chair'].fillna(-1, inplace=True)"
      ],
      "metadata": {
        "id": "hrR-e9sQtazz"
      },
      "execution_count": 34,
      "outputs": []
    },
    {
      "cell_type": "code",
      "source": [
        "# Split data into features and target\n",
        "X = df.drop(columns=['PD_or_C'])\n",
        "y = df['PD_or_C']\n",
        "\n",
        "# Standardize features\n",
        "scaler = StandardScaler()\n",
        "X = scaler.fit_transform(X)\n",
        "\n",
        "# Split data into training, val, and testing sets into a 70, 15, 15 split\n",
        "X_train, X_val, y_train, y_val = train_test_split(X, y, test_size=0.3, random_state=42)\n",
        "X_test, X_val, y_test, y_val = train_test_split(X_val, y_val, test_size=0.15, random_state=42)\n",
        "\n",
        "# Define the neural network architecture\n",
        "model = Sequential([\n",
        "    Dense(64, activation='relu', input_shape=(X_train.shape[1],)),\n",
        "    Dense(32, activation='relu'),\n",
        "    Dense(1, activation='sigmoid')\n",
        "])\n",
        "\n",
        "# Compile the model\n",
        "model.compile(optimizer='adam', loss='binary_crossentropy', metrics=['accuracy'])\n",
        "\n",
        "# Train the model\n",
        "model.fit(X_train, y_train, epochs=10, batch_size=32, validation_data=(X_val, y_val))\n",
        "\n",
        "# Evaluate the model\n",
        "loss, accuracy = model.evaluate(X_test, y_test)\n",
        "print(f'Test Loss: {loss}, Test Accuracy: {accuracy}')"
      ],
      "metadata": {
        "colab": {
          "base_uri": "https://localhost:8080/"
        },
        "id": "VKZ1Aj_VpvuY",
        "outputId": "0f5fcb21-5a5f-44e5-e94e-c791d798c8ed"
      },
      "execution_count": 35,
      "outputs": [
        {
          "output_type": "stream",
          "name": "stdout",
          "text": [
            "Epoch 1/10\n",
            "9/9 [==============================] - 1s 52ms/step - loss: 0.6059 - accuracy: 0.7270 - val_loss: 0.5844 - val_accuracy: 0.7895\n",
            "Epoch 2/10\n",
            "9/9 [==============================] - 0s 8ms/step - loss: 0.5281 - accuracy: 0.8333 - val_loss: 0.5260 - val_accuracy: 0.8421\n",
            "Epoch 3/10\n",
            "9/9 [==============================] - 0s 9ms/step - loss: 0.4613 - accuracy: 0.8936 - val_loss: 0.4656 - val_accuracy: 0.9474\n",
            "Epoch 4/10\n",
            "9/9 [==============================] - 0s 10ms/step - loss: 0.4058 - accuracy: 0.9255 - val_loss: 0.4113 - val_accuracy: 0.9474\n",
            "Epoch 5/10\n",
            "9/9 [==============================] - 0s 10ms/step - loss: 0.3569 - accuracy: 0.9468 - val_loss: 0.3624 - val_accuracy: 0.9474\n",
            "Epoch 6/10\n",
            "9/9 [==============================] - 0s 10ms/step - loss: 0.3128 - accuracy: 0.9574 - val_loss: 0.3167 - val_accuracy: 0.9474\n",
            "Epoch 7/10\n",
            "9/9 [==============================] - 0s 8ms/step - loss: 0.2732 - accuracy: 0.9645 - val_loss: 0.2782 - val_accuracy: 0.9474\n",
            "Epoch 8/10\n",
            "9/9 [==============================] - 0s 11ms/step - loss: 0.2382 - accuracy: 0.9645 - val_loss: 0.2475 - val_accuracy: 0.9474\n",
            "Epoch 9/10\n",
            "9/9 [==============================] - 0s 9ms/step - loss: 0.2076 - accuracy: 0.9645 - val_loss: 0.2219 - val_accuracy: 0.9474\n",
            "Epoch 10/10\n",
            "9/9 [==============================] - 0s 8ms/step - loss: 0.1819 - accuracy: 0.9681 - val_loss: 0.2011 - val_accuracy: 0.8947\n",
            "4/4 [==============================] - 0s 5ms/step - loss: 0.1607 - accuracy: 0.9804\n",
            "Test Loss: 0.16074907779693604, Test Accuracy: 0.9803921580314636\n"
          ]
        }
      ]
    }
  ]
}